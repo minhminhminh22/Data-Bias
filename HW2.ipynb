{
 "cells": [
  {
   "cell_type": "code",
   "execution_count": null,
   "id": "58e45caf",
   "metadata": {},
   "outputs": [],
   "source": [
    "# import all necessary functions\n",
    "import pandas as pd\n",
    "import time\n",
    "import matplotlib.pyplot as plt\n",
    "import seaborn as sns\n",
    "import numpy as np\n",
    "from sklearn.metrics import confusion_matrix"
   ]
  },
  {
   "cell_type": "code",
   "execution_count": null,
   "id": "423a0746",
   "metadata": {},
   "outputs": [],
   "source": [
    "#read file\n",
    "df = pd.read_csv('labeled_and_scored_comments.csv')"
   ]
  },
  {
   "cell_type": "code",
   "execution_count": null,
   "id": "c64e832e",
   "metadata": {},
   "outputs": [],
   "source": [
    "#sort by score\n",
    "df.sort_values(['score'])"
   ]
  },
  {
   "cell_type": "code",
   "execution_count": null,
   "id": "3c55258f",
   "metadata": {},
   "outputs": [],
   "source": [
    "#how many entries in this dataset\n",
    "print(len(df))"
   ]
  },
  {
   "cell_type": "code",
   "execution_count": null,
   "id": "92bed7dc",
   "metadata": {},
   "outputs": [],
   "source": [
    "#content of the comment\n",
    "df['comment_text']"
   ]
  },
  {
   "cell_type": "code",
   "execution_count": null,
   "id": "28dd57cb",
   "metadata": {},
   "outputs": [],
   "source": [
    "#reading the dataframe\n",
    "df.head()"
   ]
  },
  {
   "cell_type": "code",
   "execution_count": null,
   "id": "71e755f4",
   "metadata": {},
   "outputs": [],
   "source": [
    "#create a function to fetch the toxicity score from a comment\n",
    "from googleapiclient.discovery import build\n",
    "import json\n",
    "\n",
    "def get_toxicity_score(comment):\n",
    "    \n",
    "  API_KEY = '#########' # Put API key here\n",
    "    \n",
    "  client = build(\n",
    "  \"commentanalyzer\",\n",
    "  \"v1alpha1\",\n",
    "  developerKey=API_KEY,\n",
    "  discoveryServiceUrl=\"https://commentanalyzer.googleapis.com/$discovery/rest?version=v1alpha1\",\n",
    "  static_discovery = False\n",
    "  )\n",
    "\n",
    "  analyze_request = {\n",
    "  'comment': { 'text': comment },\n",
    "  'requestedAttributes': {'TOXICITY': {}}\n",
    "  }\n",
    "    \n",
    "  response = client.comments().analyze(body=analyze_request).execute()\n",
    "  toxicity_score = response[\"attributeScores\"][\"TOXICITY\"][\"summaryScore\"][\"value\"]\n",
    "    \n",
    "  return toxicity_score"
   ]
  },
  {
   "cell_type": "code",
   "execution_count": null,
   "id": "176ea3ef",
   "metadata": {},
   "outputs": [],
   "source": [
    "# create a bar graph of the results\n",
    "df.hist('score')\n",
    "plt.ylabel('number of comments')"
   ]
  },
  {
   "cell_type": "code",
   "execution_count": null,
   "id": "fd698c29",
   "metadata": {},
   "outputs": [],
   "source": [
    "# counting the frequency of each score\n",
    "df['score'].value_counts()"
   ]
  },
  {
   "cell_type": "code",
   "execution_count": null,
   "id": "c9efae56",
   "metadata": {},
   "outputs": [],
   "source": [
    "#testing the function with a simple sentence\n",
    "score = get_toxicity_score(\"I love you\")\n",
    "print(score)"
   ]
  },
  {
   "cell_type": "code",
   "execution_count": null,
   "id": "1e5faaa9",
   "metadata": {},
   "outputs": [],
   "source": [
    "#testing the function with a list of simple sentences\n",
    "comment_list = ['hello', 'how are you', 'fine thanks']\n",
    "\n",
    "for comment in comment_list:\n",
    "    score = get_toxicity_score(comment)\n",
    "    print(comment, score)\n",
    "    time.sleep(1)"
   ]
  },
  {
   "cell_type": "code",
   "execution_count": null,
   "id": "0dbdf80f",
   "metadata": {},
   "outputs": [],
   "source": [
    "#testing the function with a non-word string\n",
    "score = get_toxicity_score(\"%#$#*&!$@*%$#^$*@\")\n",
    "print(score)"
   ]
  },
  {
   "cell_type": "code",
   "execution_count": null,
   "id": "f9f1063e",
   "metadata": {},
   "outputs": [],
   "source": [
    "#create a list of comments to test the function\n",
    "comment_list = ['FUCK YOU ASSHOLE PIECES OF SHIT', 'I love you', 'wtf', 'what the fuck']\n",
    "score_list = []\n",
    "for comment in comment_list:\n",
    "    score = get_toxicity_score(comment)\n",
    "    print(comment, score)\n",
    "    time.sleep(1)"
   ]
  },
  {
   "cell_type": "code",
   "execution_count": null,
   "id": "18b27fa5",
   "metadata": {},
   "outputs": [],
   "source": [
    "#totaling the scores from the comments in the list\n",
    "sum(score_list)"
   ]
  },
  {
   "cell_type": "code",
   "execution_count": null,
   "id": "7ae44e19",
   "metadata": {},
   "outputs": [],
   "source": [
    "#using 0.7 as a threshhold (<0.7 = not toxic, >= 0.7 = toxic)\n",
    "threshold = 0.7\n",
    "\n",
    "df['prediction'] = (df['score'] > threshold).astype(int)\n",
    "df['prediction'].value_counts()"
   ]
  },
  {
   "cell_type": "code",
   "execution_count": null,
   "id": "ddea1de5",
   "metadata": {},
   "outputs": [],
   "source": [
    "#testing API with a list of abbreviations\n",
    "comment_list = ['lol', 'ily', 'wtf', 'stfu' ,'omg','dw','asap','imo','ffs','fml','irl','nsfw','pita','imho','diy','ftw','edp','smd','b']\n",
    "score_list = []\n",
    "for comment in comment_list:\n",
    "    score = get_toxicity_score(comment)\n",
    "    print(comment, score)\n",
    "    time.sleep(1)"
   ]
  },
  {
   "cell_type": "code",
   "execution_count": null,
   "id": "33e6d3df",
   "metadata": {},
   "outputs": [],
   "source": [
    "# Testing API with the matching phrases of above abbreviations\n",
    "comment_list2 = ['laugh out loud', 'I love you', 'what the fuck', 'shut the fuck up','oh my god',\"don't worry\",\"as soon as possible\",'in my opinion','for fuck sake','fuck my life','in real life','not safe for work','pain in the ass','in my honest opinion','do it yourself','for the win','eat dat pussy','suck my dick','bitch']\n",
    "score_list = []\n",
    "for comment in comment_list2:\n",
    "    score = get_toxicity_score(comment)\n",
    "    print(comment, score)\n",
    "    time.sleep(1)"
   ]
  },
  {
   "cell_type": "code",
   "execution_count": null,
   "id": "91be4a66",
   "metadata": {},
   "outputs": [],
   "source": [
    "new_df = pd.DataFrame({'comment': comment_list, 'score': score_list})"
   ]
  },
  {
   "cell_type": "code",
   "execution_count": null,
   "id": "72912963",
   "metadata": {},
   "outputs": [],
   "source": [
    "new_df.describe()"
   ]
  },
  {
   "cell_type": "code",
   "execution_count": null,
   "id": "03b72b21",
   "metadata": {},
   "outputs": [],
   "source": [
    "new_df2 = pd.DataFrame({'comment': comment_list2, 'score': score_list})"
   ]
  },
  {
   "cell_type": "code",
   "execution_count": null,
   "id": "7afb14f2",
   "metadata": {},
   "outputs": [],
   "source": [
    "new_df2.describe()"
   ]
  },
  {
   "cell_type": "code",
   "execution_count": null,
   "id": "1dd9e8e9",
   "metadata": {},
   "outputs": [],
   "source": [
    "comment_list.plot.line(x='score', y='number of comments')\n"
   ]
  },
  {
   "cell_type": "code",
   "execution_count": null,
   "id": "032063db",
   "metadata": {},
   "outputs": [],
   "source": [
    "comment_list2.plot.line(x='score', y='number of comments')"
   ]
  }
 ],
 "metadata": {
  "kernelspec": {
   "display_name": "Python 3 (ipykernel)",
   "language": "python",
   "name": "python3"
  },
  "language_info": {
   "codemirror_mode": {
    "name": "ipython",
    "version": 3
   },
   "file_extension": ".py",
   "mimetype": "text/x-python",
   "name": "python",
   "nbconvert_exporter": "python",
   "pygments_lexer": "ipython3",
   "version": "3.9.12"
  }
 },
 "nbformat": 4,
 "nbformat_minor": 5
}
